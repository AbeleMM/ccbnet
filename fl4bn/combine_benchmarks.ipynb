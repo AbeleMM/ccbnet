{
 "cells": [
  {
   "cell_type": "code",
   "execution_count": null,
   "id": "f0853422",
   "metadata": {
    "tags": []
   },
   "outputs": [],
   "source": [
    "from util import benchmark\n",
    "\n",
    "\n",
    "def run(name: str) -> None:\n",
    "    benchmark_res = benchmark(name, 4, 2000, r_seed=42)\n",
    "\n",
    "    for method, res in benchmark_res.items():\n",
    "        print(method, res)"
   ]
  },
  {
   "cell_type": "code",
   "execution_count": null,
   "id": "8c4fb9e6-4336-477d-a536-32e9115904d3",
   "metadata": {},
   "outputs": [],
   "source": [
    "run(\"asia\")"
   ]
  },
  {
   "cell_type": "code",
   "execution_count": null,
   "id": "f99b4d76-bd0b-436f-9a2a-0cd5c473d06a",
   "metadata": {},
   "outputs": [],
   "source": [
    "run(\"alarm\")"
   ]
  },
  {
   "cell_type": "code",
   "execution_count": null,
   "id": "cb19381a-1e57-42ab-bab8-f2b2a2d76c01",
   "metadata": {},
   "outputs": [],
   "source": [
    "run(\"child\")"
   ]
  },
  {
   "cell_type": "code",
   "execution_count": null,
   "id": "9d831d04-ed07-47f1-abb0-595aeffdd769",
   "metadata": {
    "tags": []
   },
   "outputs": [],
   "source": [
    "run(\"hailfinder\")"
   ]
  }
 ],
 "metadata": {
  "kernelspec": {
   "display_name": "Python 3 (ipykernel)",
   "language": "python",
   "name": "python3"
  },
  "language_info": {
   "codemirror_mode": {
    "name": "ipython",
    "version": 3
   },
   "file_extension": ".py",
   "mimetype": "text/x-python",
   "name": "python",
   "nbconvert_exporter": "python",
   "pygments_lexer": "ipython3",
   "version": "3.10.9"
  },
  "vscode": {
   "interpreter": {
    "hash": "6370ad1d4832103e2d883e08882275694a050b5e54e014d06b5bed45919747b5"
   }
  }
 },
 "nbformat": 4,
 "nbformat_minor": 5
}
